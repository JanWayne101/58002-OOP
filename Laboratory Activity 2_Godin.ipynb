{
  "nbformat": 4,
  "nbformat_minor": 0,
  "metadata": {
    "colab": {
      "provenance": [],
      "authorship_tag": "ABX9TyNzLkj1mdwHK/PRj1GNklhq",
      "include_colab_link": true
    },
    "kernelspec": {
      "name": "python3",
      "display_name": "Python 3"
    },
    "language_info": {
      "name": "python"
    }
  },
  "cells": [
    {
      "cell_type": "markdown",
      "metadata": {
        "id": "view-in-github",
        "colab_type": "text"
      },
      "source": [
        "<a href=\"https://colab.research.google.com/github/JanWayne101/58002-OOP/blob/main/Laboratory%20Activity%202_Godin.ipynb\" target=\"_parent\"><img src=\"https://colab.research.google.com/assets/colab-badge.svg\" alt=\"Open In Colab\"/></a>"
      ]
    },
    {
      "cell_type": "code",
      "execution_count": 4,
      "metadata": {
        "colab": {
          "base_uri": "https://localhost:8080/"
        },
        "id": "KcNQLCeVfhyn",
        "outputId": "551bd428-dff5-471c-e5f6-e450afdb942d"
      },
      "outputs": [
        {
          "output_type": "stream",
          "name": "stdout",
          "text": [
            "Enter the radius od the circle: 5\n",
            "Perimeter: 31.4159\n",
            "Area 78.53975\n"
          ]
        }
      ],
      "source": [
        "class Circle:\n",
        "  def __init__(self, radius):\n",
        "    self.radius = radius\n",
        "    self.pi = 3.14159\n",
        "\n",
        "  def Perimeter(self):\n",
        "     return 2*self.pi*self.radius\n",
        "\n",
        "  def Area(self):\n",
        "      return self.pi*self.radius**2\n",
        "\n",
        "  def Display(self):\n",
        "      print(\"Perimeter:\", self.Perimeter())\n",
        "      print(\"Area\", self.Area())\n",
        "\n",
        "radius = float(input(\"Enter the radius od the circle: \"))\n",
        "c = Circle(radius)\n",
        "c.Display() "
      ]
    }
  ]
}