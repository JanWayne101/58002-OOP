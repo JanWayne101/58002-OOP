{
  "nbformat": 4,
  "nbformat_minor": 0,
  "metadata": {
    "colab": {
      "provenance": [],
      "authorship_tag": "ABX9TyNqk59h/ubS9TJjXsgoZzio",
      "include_colab_link": true
    },
    "kernelspec": {
      "name": "python3",
      "display_name": "Python 3"
    },
    "language_info": {
      "name": "python"
    }
  },
  "cells": [
    {
      "cell_type": "markdown",
      "metadata": {
        "id": "view-in-github",
        "colab_type": "text"
      },
      "source": [
        "<a href=\"https://colab.research.google.com/github/JanWayne101/58002-OOP/blob/main/Hands%20on%201_Godin.ipynb\" target=\"_parent\"><img src=\"https://colab.research.google.com/assets/colab-badge.svg\" alt=\"Open In Colab\"/></a>"
      ]
    },
    {
      "cell_type": "markdown",
      "source": [],
      "metadata": {
        "id": "E7N7tui4--gM"
      }
    },
    {
      "cell_type": "code",
      "execution_count": null,
      "metadata": {
        "id": "_RLGzlY_-89l"
      },
      "outputs": [],
      "source": []
    },
    {
      "cell_type": "markdown",
      "source": [
        "Hands on No.1\n",
        "\n",
        "1. Create a Python program that displays the name of three students (student 1, student 2, student 3) and the term grade\n",
        "\n",
        "2. Create a class name person and attribute - std1, std2, std3,pre,mid,fin\n",
        "\n",
        "3. Compute the average of eachterm grade using Grade() method\n",
        "\n",
        "4. Information about the students grades must be hidden from the others"
      ],
      "metadata": {
        "id": "nomofp-V-_ib"
      }
    },
    {
      "cell_type": "code",
      "source": [
        "class person:\n",
        "  def __init__(std1, std2, std3, pre, mid, fin):\n",
        "    self.std1 = std1\n",
        "    self.std2 = std2\n",
        "    self.std3 = std3\n",
        "    self.pre = pre\n",
        "    self.mid = mid\n",
        "    self.fin = fin\n",
        "\n",
        "  def __get_avg_grade(self, grade1, grade2, grade3):\n",
        "        return (grade1 + grade2 + grade3) / 3\n",
        "  \n",
        "  def get_std1_grade(self):\n",
        "        return self.__std1\n",
        "\n",
        "  def get_std2_grade(self):\n",
        "        return self.__std2\n",
        "\n",
        "  def get_std3_grade(self):\n",
        "        return self.__std3\n",
        "\n",
        "  def get_pre_grade(self):\n",
        "        return self.__pre\n",
        "\n",
        "  def get_mid_grade(self):\n",
        "        return self.__mid\n",
        "\n",
        "  def get_fin_grade(self):\n",
        "        return self.__fin\n",
        "    \n",
        "person = Person()\n",
        "\n",
        "print(\"Student Jan Wayne Rey/ pre grade \", person.get_std1_grade())\n",
        "print(\"Student Jan Wayne Rey/ mid grade \", person.get_std1_grade())\n",
        "print(\"Student Jan Wayne Rey/ fin grade \", person.get_std1_grade())\n",
        "print(\"Student Reyan Pamisaran/ pre grade \", person.get_std2_grade())\n",
        "print(\"Student Reyan Pamisaran/ mid grade \", person.get_std2_grade())\n",
        "print(\"Student Reyan Pamisaran/ fin grade \", person.get_std2_grade())\n",
        "print(\"Student John Fredrick Milan/pre grade \", person.get_std3_grade())\n",
        "print(\"Student John Fredrick Milan/mid grade \", person.get_std3_grade())\n",
        "print(\"Student John Fredrick Milan/fin grade \", person.get_std3_grade())\n",
        "\n",
        "\n",
        "print(\"Average pre-term grade:\", person.get_pre_grade())\n",
        "print(\"Average mid-term grade:\", person.get_mid_grade())\n",
        "print(\"Average final-term grade:\", person.get_fin_grade())\n"
      ],
      "metadata": {
        "colab": {
          "base_uri": "https://localhost:8080/"
        },
        "id": "IVWmTatx_B80",
        "outputId": "4deb491b-8cc4-47d5-9c71-3257f47ce99a"
      },
      "execution_count": 25,
      "outputs": [
        {
          "output_type": "stream",
          "name": "stdout",
          "text": [
            "Student Jan Wayne Rey/ pre grade  87\n",
            "Student Jan Wayne Rey/ mid grade  87\n",
            "Student Jan Wayne Rey/ fin grade  87\n",
            "Student Reyan Pamisaran/ pre grade  97\n",
            "Student Reyan Pamisaran/ mid grade  97\n",
            "Student Reyan Pamisaran/ fin grade  97\n",
            "Student John Fredrick Milan/pre grade  82\n",
            "Student John Fredrick Milan/mid grade  82\n",
            "Student John Fredrick Milan/fin grade  82\n",
            "Average pre-term grade: 85\n",
            "Average mid-term grade: 87\n",
            "Average final-term grade: 90\n"
          ]
        }
      ]
    },
    {
      "cell_type": "code",
      "source": [
        "class Person:\n",
        "    def __init__(self, std1, std2, std3, pre, mid, fin):\n",
        "        self.__std1 = std1\n",
        "        self.__std2 = std2\n",
        "        self.__std3 = std3\n",
        "        self.__pre = pre\n",
        "        self.__mid = mid\n",
        "        self.__fin = fin\n",
        "\n",
        "    def Grade(self):\n",
        "        return (self.__pre + self.__mid + self.__fin) / 3\n",
        "\n",
        "    def display1(self):\n",
        "        print(self.__std1, self.Grade(), \"\\n\")\n",
        "\n",
        "    def display2(self):\n",
        "        print(self.__std2, self.Grade(), \"\\n\")\n",
        "\n",
        "    def display3(self):\n",
        "        print(self.__std3, self.Grade())\n",
        "\n",
        "\n",
        "class std1(Person):\n",
        "    term_grade = Person(\"Average of std1 =\", 0, 0, \n",
        "                        float(input(\"Pre: \")), \n",
        "                        float(input(\"Mid: \")),\n",
        "                        float(input(\"Finals: \")))\n",
        "    term_grade.display1()\n",
        "\n",
        "\n",
        "class std2(Person):\n",
        "    term_grade = Person(0, \"Average of std2 =\", 0, \n",
        "                        float(input(\"Pre: \")), \n",
        "                        float(input(\"Mid: \")),\n",
        "                        float(input(\"Finals: \")))\n",
        "    term_grade.display2()\n",
        "\n",
        "\n",
        "class std3(Person):\n",
        "    term_grade = Person(0, 0, \"Average of std3 =\", \n",
        "                        float(input(\"Pre: \")),\n",
        "                        float(input(\"Mid: \")), \n",
        "                        float(input(\"Finals: \")))\n",
        "    term_grade.display3()"
      ],
      "metadata": {
        "id": "8F6iCTc0GDc7"
      },
      "execution_count": null,
      "outputs": []
    }
  ]
}