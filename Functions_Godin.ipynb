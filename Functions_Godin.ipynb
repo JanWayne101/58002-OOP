{
  "nbformat": 4,
  "nbformat_minor": 0,
  "metadata": {
    "colab": {
      "provenance": [],
      "authorship_tag": "ABX9TyOTv21vq9uLztYRoVk1Vn2a",
      "include_colab_link": true
    },
    "kernelspec": {
      "name": "python3",
      "display_name": "Python 3"
    },
    "language_info": {
      "name": "python"
    }
  },
  "cells": [
    {
      "cell_type": "markdown",
      "metadata": {
        "id": "view-in-github",
        "colab_type": "text"
      },
      "source": [
        "<a href=\"https://colab.research.google.com/github/JanWayne101/58002-OOP/blob/main/Functions_Godin.ipynb\" target=\"_parent\"><img src=\"https://colab.research.google.com/assets/colab-badge.svg\" alt=\"Open In Colab\"/></a>"
      ]
    },
    {
      "cell_type": "code",
      "execution_count": 10,
      "metadata": {
        "colab": {
          "base_uri": "https://localhost:8080/",
          "height": 36
        },
        "id": "kdoisBpu6mc9",
        "outputId": "7f4a620d-bf2e-49a0-ed99-0f3b976d1720"
      },
      "outputs": [
        {
          "output_type": "execute_result",
          "data": {
            "text/plain": [
              "'Jan Wayne Rey Y. Godin'"
            ],
            "application/vnd.google.colaboratory.intrinsic+json": {
              "type": "string"
            }
          },
          "metadata": {},
          "execution_count": 10
        }
      ],
      "source": [
        "class Person:\n",
        "  def __init__(self, firstname, Mi, Surname):\n",
        "    self.firstname = firstname\n",
        "    self.Mi= Mi\n",
        "    self.Surname = Surname\n",
        "\n",
        "  def Fullname(self):\n",
        "    return self.firstname + self.Mi + self.Surname\n",
        "name = Person(\"Jan Wayne Rey \", \"Y. \", \"Godin\")\n",
        "name.Fullname()"
      ]
    }
  ]
}