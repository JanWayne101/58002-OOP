{
  "nbformat": 4,
  "nbformat_minor": 0,
  "metadata": {
    "colab": {
      "provenance": [],
      "authorship_tag": "ABX9TyPuMpGw89XKx+GLtK45AWF3",
      "include_colab_link": true
    },
    "kernelspec": {
      "name": "python3",
      "display_name": "Python 3"
    },
    "language_info": {
      "name": "python"
    }
  },
  "cells": [
    {
      "cell_type": "markdown",
      "metadata": {
        "id": "view-in-github",
        "colab_type": "text"
      },
      "source": [
        "<a href=\"https://colab.research.google.com/github/JanWayne101/58002-OOP/blob/main/OOP_Activity.ipynb\" target=\"_parent\"><img src=\"https://colab.research.google.com/assets/colab-badge.svg\" alt=\"Open In Colab\"/></a>"
      ]
    },
    {
      "cell_type": "code",
      "execution_count": null,
      "metadata": {
        "id": "LtU64dcJ8J3Y"
      },
      "outputs": [],
      "source": []
    },
    {
      "cell_type": "markdown",
      "source": [
        "OOP Activity"
      ],
      "metadata": {
        "id": "GQ5xCcrg8peS"
      }
    },
    {
      "cell_type": "code",
      "source": [
        "class Person:\n",
        "  def __init__(self, name, age, school):\n",
        "    self .name = name\n",
        "    self .age = age\n",
        "    self .school = school\n",
        "  \n",
        "  def myself(self):\n",
        "    print(\"Fullname: \", self .name)\n",
        "    print(\"Age: \", self .age)\n",
        "    print(\"School: \", self .school)\n",
        "\n",
        "person = Person(\"Jan Wayne Rey Y. Godin\",19,\"Adamson University\")\n",
        "person.myself()"
      ],
      "metadata": {
        "colab": {
          "base_uri": "https://localhost:8080/"
        },
        "id": "-NfAaX0w8r8I",
        "outputId": "7651277a-9dea-4bfb-9d8d-cb9430b84ea2"
      },
      "execution_count": 18,
      "outputs": [
        {
          "output_type": "stream",
          "name": "stdout",
          "text": [
            "Fullname:  Jan Wayne Rey Y. Godin\n",
            "Age:  19\n",
            "School:  Adamson University\n"
          ]
        }
      ]
    }
  ]
}