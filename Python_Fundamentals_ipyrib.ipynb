{
  "nbformat": 4,
  "nbformat_minor": 0,
  "metadata": {
    "colab": {
      "provenance": [],
      "authorship_tag": "ABX9TyOu0trLlMgIaOZAcCzB2+SY",
      "include_colab_link": true
    },
    "kernelspec": {
      "name": "python3",
      "display_name": "Python 3"
    },
    "language_info": {
      "name": "python"
    }
  },
  "cells": [
    {
      "cell_type": "markdown",
      "metadata": {
        "id": "view-in-github",
        "colab_type": "text"
      },
      "source": [
        "<a href=\"https://colab.research.google.com/github/JanWayne101/58002-OOP/blob/main/Python_Fundamentals_ipyrib.ipynb\" target=\"_parent\"><img src=\"https://colab.research.google.com/assets/colab-badge.svg\" alt=\"Open In Colab\"/></a>"
      ]
    },
    {
      "cell_type": "code",
      "execution_count": 15,
      "metadata": {
        "colab": {
          "base_uri": "https://localhost:8080/"
        },
        "id": "F7Q1Mxz9w7Vm",
        "outputId": "0ccf9445-0950-47f9-f6d5-77dca34f3c74"
      },
      "outputs": [
        {
          "output_type": "stream",
          "name": "stdout",
          "text": [
            "Hello, world\n"
          ]
        }
      ],
      "source": [
        "  #This is a comment\n",
        "  print(\"Hello, world\")"
      ]
    },
    {
      "cell_type": "code",
      "source": [
        "if 5>2:\n",
        "  print(\"Five is greater than two\")"
      ],
      "metadata": {
        "colab": {
          "base_uri": "https://localhost:8080/"
        },
        "id": "eEw3NlEyyhno",
        "outputId": "c9599f5b-e0cc-4344-8c48-9acd05c30d97"
      },
      "execution_count": 6,
      "outputs": [
        {
          "output_type": "stream",
          "name": "stdout",
          "text": [
            "Five is greater than two\n"
          ]
        }
      ]
    },
    {
      "cell_type": "markdown",
      "source": [],
      "metadata": {
        "id": "enfCC_VXyhUQ"
      }
    },
    {
      "cell_type": "code",
      "source": [
        "#Single variable with single value\n",
        "x = 1\n",
        "y = 2\n",
        "c = 3\n",
        "print(x)\n",
        "print(y)\n",
        "print(c)\n",
        "\n",
        "#mutliple variable with a single value\n",
        "a=b=c = \"Wayne\"\n",
        "print(a)\n",
        "print(b)\n",
        "print(c)\n",
        "\n",
        "#mutliple variable with a single value\n",
        "y, c, g = 1, 2, 3\n",
        "print(y)\n",
        "print(c)\n",
        "print(g)"
      ],
      "metadata": {
        "colab": {
          "base_uri": "https://localhost:8080/"
        },
        "id": "1rwS-kT6yg1J",
        "outputId": "c6ff2e7e-c9f8-4b1a-b8f1-b3aa2f8294f3"
      },
      "execution_count": 14,
      "outputs": [
        {
          "output_type": "stream",
          "name": "stdout",
          "text": [
            "1\n",
            "2\n",
            "3\n",
            "Wayne\n",
            "Wayne\n",
            "Wayne\n",
            "1\n",
            "2\n",
            "3\n"
          ]
        }
      ]
    },
    {
      "cell_type": "markdown",
      "source": [],
      "metadata": {
        "id": "rRXPZI5F0sgg"
      }
    },
    {
      "cell_type": "code",
      "source": [
        "#Single or Double\n",
        "u = \"Sally\"\n",
        "v = 'Sally'\n",
        "print(u)\n",
        "print(v)"
      ],
      "metadata": {
        "colab": {
          "base_uri": "https://localhost:8080/"
        },
        "id": "ECrtMnzv0ucg",
        "outputId": "9c936795-789a-47bf-df39-86aa75a8e831"
      },
      "execution_count": 28,
      "outputs": [
        {
          "output_type": "stream",
          "name": "stdout",
          "text": [
            "Sally\n",
            "Sally\n"
          ]
        }
      ]
    },
    {
      "cell_type": "code",
      "source": [
        "p = float(5)\n",
        "p"
      ],
      "metadata": {
        "colab": {
          "base_uri": "https://localhost:8080/"
        },
        "id": "jTanqJEE1OVP",
        "outputId": "4c520409-c7d2-43a6-d9be-7a962a535a88"
      },
      "execution_count": 23,
      "outputs": [
        {
          "output_type": "execute_result",
          "data": {
            "text/plain": [
              "5.0"
            ]
          },
          "metadata": {},
          "execution_count": 23
        }
      ]
    },
    {
      "cell_type": "markdown",
      "source": [],
      "metadata": {
        "id": "sclmpnt-1NuH"
      }
    },
    {
      "cell_type": "markdown",
      "source": [],
      "metadata": {
        "id": "EWgvmSz9zMjX"
      }
    },
    {
      "cell_type": "code",
      "source": [
        "f = \"Ana\"\n",
        "g = 4.56\n",
        "print(type(f))\n",
        "print(type(g))"
      ],
      "metadata": {
        "colab": {
          "base_uri": "https://localhost:8080/"
        },
        "id": "QNklUbaa1jMH",
        "outputId": "9784a7a3-13a3-41d4-bdb5-07bd8d057204"
      },
      "execution_count": 41,
      "outputs": [
        {
          "output_type": "stream",
          "name": "stdout",
          "text": [
            "<class 'str'>\n",
            "<class 'float'>\n"
          ]
        }
      ]
    },
    {
      "cell_type": "markdown",
      "source": [
        "Contatenation using + symbol"
      ],
      "metadata": {
        "id": "1GGnOwFD3KZl"
      }
    },
    {
      "cell_type": "code",
      "source": [
        "k = \"Enjoying :)\"\n",
        "j = \"Python Programming\"\n",
        "print(j + \" is \" + \" Hard and \" + k)\n",
        "print(j + k)"
      ],
      "metadata": {
        "colab": {
          "base_uri": "https://localhost:8080/"
        },
        "id": "EJkqdrw33No-",
        "outputId": "45496c93-b0b5-4894-db8d-d12ce5ad27ed"
      },
      "execution_count": 44,
      "outputs": [
        {
          "output_type": "stream",
          "name": "stdout",
          "text": [
            "Python Programming is  Hard and Enjoying :)\n",
            "Python ProgrammingEnjoying :)\n"
          ]
        }
      ]
    }
  ]
}