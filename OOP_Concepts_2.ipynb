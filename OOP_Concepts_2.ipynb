{
  "nbformat": 4,
  "nbformat_minor": 0,
  "metadata": {
    "colab": {
      "provenance": [],
      "authorship_tag": "ABX9TyM86OzBKxHoYjU2tlHYK/qj",
      "include_colab_link": true
    },
    "kernelspec": {
      "name": "python3",
      "display_name": "Python 3"
    },
    "language_info": {
      "name": "python"
    }
  },
  "cells": [
    {
      "cell_type": "markdown",
      "metadata": {
        "id": "view-in-github",
        "colab_type": "text"
      },
      "source": [
        "<a href=\"https://colab.research.google.com/github/JanWayne101/58002-OOP/blob/main/OOP_Concepts_2.ipynb\" target=\"_parent\"><img src=\"https://colab.research.google.com/assets/colab-badge.svg\" alt=\"Open In Colab\"/></a>"
      ]
    },
    {
      "cell_type": "code",
      "execution_count": 15,
      "metadata": {
        "colab": {
          "base_uri": "https://localhost:8080/"
        },
        "id": "9OWQyR6P6PJF",
        "outputId": "d3131118-68da-4939-b4d6-164611be12dd"
      },
      "outputs": [
        {
          "output_type": "execute_result",
          "data": {
            "text/plain": [
              "7"
            ]
          },
          "metadata": {},
          "execution_count": 15
        }
      ],
      "source": [
        "#encapsulation\n",
        "class foo:\n",
        "  def __init__(self,a,b):\n",
        "    self.__a=a\n",
        "    self.__b=b\n",
        "  def add(self):\n",
        "      return self.__a + self.__b\n",
        "foo_object = foo(3,4)\n",
        "foo_object.add()\n",
        "foo_object.a = 7\n",
        "foo_object.b = 8\n",
        "foo_object.add()"
      ]
    },
    {
      "cell_type": "code",
      "source": [
        "#class with multiple objects\n",
        "\n",
        "class birds:\n",
        "  def __init__(self,name_birds):\n",
        "    self.name_birds = name_birds\n",
        "  def flying_birds(self):\n",
        "    print(f\"The {self.name_birds} is the flying birds above the sky\")\n",
        "  def non_flying_birds(self):\n",
        "    print(f\"The {self.name_birds} is the non flying bird\")\n",
        "\n",
        "eagle =birds(\"eagle\")\n",
        "chicken =birds(\"chicken\")\n",
        "eagle.flying_birds()\n",
        "chicken.non_flying_birds()"
      ],
      "metadata": {
        "colab": {
          "base_uri": "https://localhost:8080/"
        },
        "id": "CW5qdWtJ9Qf8",
        "outputId": "c7b10aa1-0d4b-4181-f3ef-73af16875a72"
      },
      "execution_count": 7,
      "outputs": [
        {
          "output_type": "stream",
          "name": "stdout",
          "text": [
            "The eagle is the flying birds above the sky\n",
            "The chicken is the non flying bird\n"
          ]
        }
      ]
    },
    {
      "cell_type": "code",
      "source": [
        "#inheritance\n",
        "class Person:\n",
        "  def __init__(self, name, birthdate):\n",
        "    self.name = name\n",
        "    self.birthdate = birthdate\n",
        "  def display(self):\n",
        "    print(\"My name is\",self.name)\n",
        "    print(\"My birthdate is\", self.birthdate)\n",
        "class Student(Person):\n",
        "  pass\n",
        "person = Person(\"Maria\", \"Febuary 13, 1990\")\n",
        "person.display()\n",
        "\n",
        "student = Student(\"Ana\", \"March 14, 1991\")\n",
        "student.display"
      ],
      "metadata": {
        "colab": {
          "base_uri": "https://localhost:8080/"
        },
        "id": "hVVHuLvn_XIW",
        "outputId": "d6371d5b-bedd-4d99-e07a-f935471edfd2"
      },
      "execution_count": 34,
      "outputs": [
        {
          "output_type": "stream",
          "name": "stdout",
          "text": [
            "My name is Maria\n",
            "My birthdate is Febuary 13, 1990\n"
          ]
        },
        {
          "output_type": "execute_result",
          "data": {
            "text/plain": [
              "<bound method Person.display of <__main__.Student object at 0x7f672d285ee0>>"
            ]
          },
          "metadata": {},
          "execution_count": 34
        }
      ]
    },
    {
      "cell_type": "code",
      "source": [
        "class shapes:\n",
        "  def __init__(self, name, sides):\n",
        "    self.__name = name\n",
        "    self.__sides = sides\n",
        "  def display(self):\n",
        "    print(\"The shape is\",self.__name)\n",
        "    print(\"with\",self.__sides)\n",
        "  class square(shapes):\n",
        "    pass\n",
        " \n",
        "  class triangle(shapes):\n",
        "   pass\n",
        "  \n",
        "  class rectangle(shapes):\n",
        "    pass\n",
        "\n",
        "  class pentagon(shapes):\n",
        "    pass\n",
        "\n",
        "  class hexagon(shapes):\n",
        "    pass\n",
        "\n",
        "\n",
        "square = shapes(\"square\", \"4\")\n",
        "square.display()\n",
        "triangle = shapes(\"triangle\", \"3\")\n",
        "triangle.display()\n",
        "rectangle = shapes(\"rectangle\", \"4\")\n",
        "rectangle.display()\n",
        "pentagon = shapes(\"pentagon\", \"5\")\n",
        "pentagon.display()\n",
        "hexagon = shapes(\"hexagon\",\"6\")\n",
        "hexagon.display()"
      ],
      "metadata": {
        "colab": {
          "base_uri": "https://localhost:8080/"
        },
        "id": "_E5REvLBFMp4",
        "outputId": "a01d086a-fbc8-4b29-f7b6-dc80229b2823"
      },
      "execution_count": 41,
      "outputs": [
        {
          "output_type": "stream",
          "name": "stdout",
          "text": [
            "The shape is square\n",
            "with 4\n",
            "The shape is triangle\n",
            "with 3\n",
            "The shape is rectangle\n",
            "with 4\n",
            "The shape is pentagon\n",
            "with 5\n",
            "The shape is hexagon\n",
            "with 6\n"
          ]
        }
      ]
    }
  ]
}